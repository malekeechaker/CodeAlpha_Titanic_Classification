{
  "metadata": {
    "kernelspec": {
      "language": "python",
      "display_name": "Python 3",
      "name": "python3"
    },
    "language_info": {
      "name": "python",
      "version": "3.10.13",
      "mimetype": "text/x-python",
      "codemirror_mode": {
        "name": "ipython",
        "version": 3
      },
      "pygments_lexer": "ipython3",
      "nbconvert_exporter": "python",
      "file_extension": ".py"
    },
    "kaggle": {
      "accelerator": "none",
      "dataSources": [
        {
          "sourceId": 3136,
          "databundleVersionId": 26502,
          "sourceType": "competition"
        }
      ],
      "dockerImageVersionId": 30732,
      "isInternetEnabled": true,
      "language": "python",
      "sourceType": "notebook",
      "isGpuEnabled": false
    },
    "colab": {
      "provenance": [],
      "collapsed_sections": [
        "cau8zw6mhAEa",
        "sYp3y6lHhAEe",
        "vLAi2HQGhAEh",
        "OTPhKohFhAEp",
        "_Iv9Y3SohAEr",
        "a9TdHBephAEt",
        "cBKmM_uqhAEv",
        "OR34gpbXhAEw"
      ],
      "name": "Final_Task1_Titanic_Classification",
      "include_colab_link": true
    }
  },
  "nbformat_minor": 0,
  "nbformat": 4,
  "cells": [
    {
      "cell_type": "markdown",
      "metadata": {
        "id": "view-in-github",
        "colab_type": "text"
      },
      "source": [
        "<a href=\"https://colab.research.google.com/github/malekeechaker/CodeAlpha_Titanic_Classification/blob/main/Final_Task1_Titanic_Classification.ipynb\" target=\"_parent\"><img src=\"https://colab.research.google.com/assets/colab-badge.svg\" alt=\"Open In Colab\"/></a>"
      ]
    },
    {
      "source": [
        "\n",
        "# IMPORTANT: RUN THIS CELL IN ORDER TO IMPORT YOUR KAGGLE DATA SOURCES\n",
        "# TO THE CORRECT LOCATION (/kaggle/input) IN YOUR NOTEBOOK,\n",
        "# THEN FEEL FREE TO DELETE THIS CELL.\n",
        "# NOTE: THIS NOTEBOOK ENVIRONMENT DIFFERS FROM KAGGLE'S PYTHON\n",
        "# ENVIRONMENT SO THERE MAY BE MISSING LIBRARIES USED BY YOUR\n",
        "# NOTEBOOK.\n",
        "\n",
        "import os\n",
        "import sys\n",
        "from tempfile import NamedTemporaryFile\n",
        "from urllib.request import urlopen\n",
        "from urllib.parse import unquote, urlparse\n",
        "from urllib.error import HTTPError\n",
        "from zipfile import ZipFile\n",
        "import tarfile\n",
        "import shutil\n",
        "\n",
        "CHUNK_SIZE = 40960\n",
        "DATA_SOURCE_MAPPING = 'titanic:https%3A%2F%2Fstorage.googleapis.com%2Fkaggle-competitions-data%2Fkaggle-v2%2F3136%2F26502%2Fbundle%2Farchive.zip%3FX-Goog-Algorithm%3DGOOG4-RSA-SHA256%26X-Goog-Credential%3Dgcp-kaggle-com%2540kaggle-161607.iam.gserviceaccount.com%252F20240611%252Fauto%252Fstorage%252Fgoog4_request%26X-Goog-Date%3D20240611T085154Z%26X-Goog-Expires%3D259200%26X-Goog-SignedHeaders%3Dhost%26X-Goog-Signature%3D158781ba6cdfece29cdeb7cc5fd4b4c2ff234373d37dbae25b95cc795dfc430e465f5df2150cfea730fa198a41b9104cc67c9d747060c9b3384e7ad32cc8a0c93d9c319d05b6a78103bbd768f15e5cf800b1e4788ade562701ec1d09ded73f12cbd49c1418ee43f23731d7c99ed2a9a5e10afc17a626d3a1062e170d307e3903eb16b7929914c51083a3e52135e5d62ff0b1899135571af7293914c1d9d0224ad92affa38ace0579a09194e3434ab0ef61672fce133538f7b7774b2ff6502e6e10c29f62b549eb5758721ce7abc003781fe6fae22b4da7159d44bfcdb8c4118fb56ca1df41bf5a92ba97ed664f5a02f34aded3197bede683c45db7bdd15265a0'\n",
        "\n",
        "KAGGLE_INPUT_PATH='/kaggle/input'\n",
        "KAGGLE_WORKING_PATH='/kaggle/working'\n",
        "KAGGLE_SYMLINK='kaggle'\n",
        "\n",
        "!umount /kaggle/input/ 2> /dev/null\n",
        "shutil.rmtree('/kaggle/input', ignore_errors=True)\n",
        "os.makedirs(KAGGLE_INPUT_PATH, 0o777, exist_ok=True)\n",
        "os.makedirs(KAGGLE_WORKING_PATH, 0o777, exist_ok=True)\n",
        "\n",
        "try:\n",
        "  os.symlink(KAGGLE_INPUT_PATH, os.path.join(\"..\", 'input'), target_is_directory=True)\n",
        "except FileExistsError:\n",
        "  pass\n",
        "try:\n",
        "  os.symlink(KAGGLE_WORKING_PATH, os.path.join(\"..\", 'working'), target_is_directory=True)\n",
        "except FileExistsError:\n",
        "  pass\n",
        "\n",
        "for data_source_mapping in DATA_SOURCE_MAPPING.split(','):\n",
        "    directory, download_url_encoded = data_source_mapping.split(':')\n",
        "    download_url = unquote(download_url_encoded)\n",
        "    filename = urlparse(download_url).path\n",
        "    destination_path = os.path.join(KAGGLE_INPUT_PATH, directory)\n",
        "    try:\n",
        "        with urlopen(download_url) as fileres, NamedTemporaryFile() as tfile:\n",
        "            total_length = fileres.headers['content-length']\n",
        "            print(f'Downloading {directory}, {total_length} bytes compressed')\n",
        "            dl = 0\n",
        "            data = fileres.read(CHUNK_SIZE)\n",
        "            while len(data) > 0:\n",
        "                dl += len(data)\n",
        "                tfile.write(data)\n",
        "                done = int(50 * dl / int(total_length))\n",
        "                sys.stdout.write(f\"\\r[{'=' * done}{' ' * (50-done)}] {dl} bytes downloaded\")\n",
        "                sys.stdout.flush()\n",
        "                data = fileres.read(CHUNK_SIZE)\n",
        "            if filename.endswith('.zip'):\n",
        "              with ZipFile(tfile) as zfile:\n",
        "                zfile.extractall(destination_path)\n",
        "            else:\n",
        "              with tarfile.open(tfile.name) as tarfile:\n",
        "                tarfile.extractall(destination_path)\n",
        "            print(f'\\nDownloaded and uncompressed: {directory}')\n",
        "    except HTTPError as e:\n",
        "        print(f'Failed to load (likely expired) {download_url} to path {destination_path}')\n",
        "        continue\n",
        "    except OSError as e:\n",
        "        print(f'Failed to load {download_url} to path {destination_path}')\n",
        "        continue\n",
        "\n",
        "print('Data source import complete.')\n"
      ],
      "metadata": {
        "id": "suFzUtdky-tB"
      },
      "cell_type": "code",
      "outputs": [],
      "execution_count": null
    },
    {
      "cell_type": "markdown",
      "source": [
        "\n",
        "# Task 1 Titanic Classification\n",
        "\n",
        "## Import Libraries\n",
        "Let's import some libraries to get started!"
      ],
      "metadata": {
        "_uuid": "55946cb1-4116-49db-9d6f-d1a448b615a6",
        "_cell_guid": "10d5cd49-c524-4dd9-8b4d-67497e413466",
        "id": "waEN4s6zhAEW"
      }
    },
    {
      "cell_type": "code",
      "source": [
        "import pandas as pd\n",
        "import numpy as np\n",
        "import matplotlib.pyplot as plt;\n",
        "import seaborn as sns\n",
        "%matplotlib inline"
      ],
      "metadata": {
        "_uuid": "1f38d2a8-b056-4950-9f4c-8b0c5e6c574d",
        "_cell_guid": "f8b120b2-aecd-4c89-acf8-309de0623000",
        "id": "tO9AQIu7hAEX",
        "execution": {
          "iopub.status.busy": "2024-06-10T15:00:55.609058Z",
          "iopub.execute_input": "2024-06-10T15:00:55.609456Z",
          "iopub.status.idle": "2024-06-10T15:00:55.617039Z",
          "shell.execute_reply.started": "2024-06-10T15:00:55.609425Z",
          "shell.execute_reply": "2024-06-10T15:00:55.615804Z"
        },
        "trusted": true
      },
      "execution_count": null,
      "outputs": []
    },
    {
      "cell_type": "markdown",
      "source": [
        "# Load Data\n"
      ],
      "metadata": {
        "_uuid": "057e509e-bb25-40b2-9900-3ed890470bac",
        "_cell_guid": "ba3d03b5-e508-47c0-8232-ad59809bbaf2",
        "id": "5er_pIoNhAEY",
        "trusted": true
      }
    },
    {
      "cell_type": "code",
      "source": [
        "train = pd.read_csv('/kaggle/input/titanic/train.csv')"
      ],
      "metadata": {
        "_uuid": "2fccc693-f638-4f54-9604-9768991566a2",
        "_cell_guid": "a83e0dca-00a8-4f0c-91ee-8ff4827f18a8",
        "id": "_o1sQYVvhAEZ",
        "execution": {
          "iopub.status.busy": "2024-06-10T15:00:55.619205Z",
          "iopub.execute_input": "2024-06-10T15:00:55.619636Z",
          "iopub.status.idle": "2024-06-10T15:00:55.64005Z",
          "shell.execute_reply.started": "2024-06-10T15:00:55.619597Z",
          "shell.execute_reply": "2024-06-10T15:00:55.638934Z"
        },
        "trusted": true
      },
      "execution_count": null,
      "outputs": []
    },
    {
      "cell_type": "code",
      "source": [
        "train.head()"
      ],
      "metadata": {
        "_uuid": "7269d290-49db-4c9b-b524-152864564846",
        "_cell_guid": "2edc27e2-00b2-4f24-b9f4-eee0df2dccd3",
        "id": "HuZRmqnYhAEZ",
        "execution": {
          "iopub.status.busy": "2024-06-10T15:00:55.642702Z",
          "iopub.execute_input": "2024-06-10T15:00:55.643175Z",
          "iopub.status.idle": "2024-06-10T15:00:55.664282Z",
          "shell.execute_reply.started": "2024-06-10T15:00:55.643136Z",
          "shell.execute_reply": "2024-06-10T15:00:55.66308Z"
        },
        "trusted": true,
        "outputId": "cbe82e29-ed14-4bff-af74-a288800097f1"
      },
      "execution_count": null,
      "outputs": [
        {
          "execution_count": 48,
          "output_type": "execute_result",
          "data": {
            "text/plain": "   PassengerId  Survived  Pclass  \\\n0            1         0       3   \n1            2         1       1   \n2            3         1       3   \n3            4         1       1   \n4            5         0       3   \n\n                                                Name     Sex   Age  SibSp  \\\n0                            Braund, Mr. Owen Harris    male  22.0      1   \n1  Cumings, Mrs. John Bradley (Florence Briggs Th...  female  38.0      1   \n2                             Heikkinen, Miss. Laina  female  26.0      0   \n3       Futrelle, Mrs. Jacques Heath (Lily May Peel)  female  35.0      1   \n4                           Allen, Mr. William Henry    male  35.0      0   \n\n   Parch            Ticket     Fare Cabin Embarked  \n0      0         A/5 21171   7.2500   NaN        S  \n1      0          PC 17599  71.2833   C85        C  \n2      0  STON/O2. 3101282   7.9250   NaN        S  \n3      0            113803  53.1000  C123        S  \n4      0            373450   8.0500   NaN        S  ",
            "text/html": "<div>\n<style scoped>\n    .dataframe tbody tr th:only-of-type {\n        vertical-align: middle;\n    }\n\n    .dataframe tbody tr th {\n        vertical-align: top;\n    }\n\n    .dataframe thead th {\n        text-align: right;\n    }\n</style>\n<table border=\"1\" class=\"dataframe\">\n  <thead>\n    <tr style=\"text-align: right;\">\n      <th></th>\n      <th>PassengerId</th>\n      <th>Survived</th>\n      <th>Pclass</th>\n      <th>Name</th>\n      <th>Sex</th>\n      <th>Age</th>\n      <th>SibSp</th>\n      <th>Parch</th>\n      <th>Ticket</th>\n      <th>Fare</th>\n      <th>Cabin</th>\n      <th>Embarked</th>\n    </tr>\n  </thead>\n  <tbody>\n    <tr>\n      <th>0</th>\n      <td>1</td>\n      <td>0</td>\n      <td>3</td>\n      <td>Braund, Mr. Owen Harris</td>\n      <td>male</td>\n      <td>22.0</td>\n      <td>1</td>\n      <td>0</td>\n      <td>A/5 21171</td>\n      <td>7.2500</td>\n      <td>NaN</td>\n      <td>S</td>\n    </tr>\n    <tr>\n      <th>1</th>\n      <td>2</td>\n      <td>1</td>\n      <td>1</td>\n      <td>Cumings, Mrs. John Bradley (Florence Briggs Th...</td>\n      <td>female</td>\n      <td>38.0</td>\n      <td>1</td>\n      <td>0</td>\n      <td>PC 17599</td>\n      <td>71.2833</td>\n      <td>C85</td>\n      <td>C</td>\n    </tr>\n    <tr>\n      <th>2</th>\n      <td>3</td>\n      <td>1</td>\n      <td>3</td>\n      <td>Heikkinen, Miss. Laina</td>\n      <td>female</td>\n      <td>26.0</td>\n      <td>0</td>\n      <td>0</td>\n      <td>STON/O2. 3101282</td>\n      <td>7.9250</td>\n      <td>NaN</td>\n      <td>S</td>\n    </tr>\n    <tr>\n      <th>3</th>\n      <td>4</td>\n      <td>1</td>\n      <td>1</td>\n      <td>Futrelle, Mrs. Jacques Heath (Lily May Peel)</td>\n      <td>female</td>\n      <td>35.0</td>\n      <td>1</td>\n      <td>0</td>\n      <td>113803</td>\n      <td>53.1000</td>\n      <td>C123</td>\n      <td>S</td>\n    </tr>\n    <tr>\n      <th>4</th>\n      <td>5</td>\n      <td>0</td>\n      <td>3</td>\n      <td>Allen, Mr. William Henry</td>\n      <td>male</td>\n      <td>35.0</td>\n      <td>0</td>\n      <td>0</td>\n      <td>373450</td>\n      <td>8.0500</td>\n      <td>NaN</td>\n      <td>S</td>\n    </tr>\n  </tbody>\n</table>\n</div>"
          },
          "metadata": {}
        }
      ]
    },
    {
      "cell_type": "markdown",
      "source": [
        "# Exploratory Data Analysis\n"
      ],
      "metadata": {
        "id": "cau8zw6mhAEa"
      }
    },
    {
      "cell_type": "code",
      "source": [
        "train.shape"
      ],
      "metadata": {
        "id": "fsTrpahYhAEb",
        "execution": {
          "iopub.status.busy": "2024-06-10T15:00:55.665664Z",
          "iopub.execute_input": "2024-06-10T15:00:55.666669Z",
          "iopub.status.idle": "2024-06-10T15:00:55.679556Z",
          "shell.execute_reply.started": "2024-06-10T15:00:55.666628Z",
          "shell.execute_reply": "2024-06-10T15:00:55.678261Z"
        },
        "trusted": true,
        "outputId": "f7cad36c-b405-415a-da84-98c74f5a9e0f"
      },
      "execution_count": null,
      "outputs": [
        {
          "execution_count": 49,
          "output_type": "execute_result",
          "data": {
            "text/plain": "(891, 12)"
          },
          "metadata": {}
        }
      ]
    },
    {
      "cell_type": "code",
      "source": [
        "train.info()"
      ],
      "metadata": {
        "id": "fnKkvJXShAEb",
        "execution": {
          "iopub.status.busy": "2024-06-10T15:00:55.682382Z",
          "iopub.execute_input": "2024-06-10T15:00:55.682836Z",
          "iopub.status.idle": "2024-06-10T15:00:55.702941Z",
          "shell.execute_reply.started": "2024-06-10T15:00:55.682795Z",
          "shell.execute_reply": "2024-06-10T15:00:55.701793Z"
        },
        "trusted": true,
        "outputId": "4b5d8075-92b5-4a7a-80a2-51492756f8ef"
      },
      "execution_count": null,
      "outputs": [
        {
          "name": "stdout",
          "text": "<class 'pandas.core.frame.DataFrame'>\nRangeIndex: 891 entries, 0 to 890\nData columns (total 12 columns):\n #   Column       Non-Null Count  Dtype  \n---  ------       --------------  -----  \n 0   PassengerId  891 non-null    int64  \n 1   Survived     891 non-null    int64  \n 2   Pclass       891 non-null    int64  \n 3   Name         891 non-null    object \n 4   Sex          891 non-null    object \n 5   Age          714 non-null    float64\n 6   SibSp        891 non-null    int64  \n 7   Parch        891 non-null    int64  \n 8   Ticket       891 non-null    object \n 9   Fare         891 non-null    float64\n 10  Cabin        204 non-null    object \n 11  Embarked     889 non-null    object \ndtypes: float64(2), int64(5), object(5)\nmemory usage: 83.7+ KB\n",
          "output_type": "stream"
        }
      ]
    },
    {
      "cell_type": "code",
      "source": [
        "train[\"Survived\"].value_counts().plot(kind=\"pie\")\n",
        "plt.title('Distribution of Survival on the Titanic')"
      ],
      "metadata": {
        "id": "k4FXLj9chAEc",
        "execution": {
          "iopub.status.busy": "2024-06-10T15:00:55.70441Z",
          "iopub.execute_input": "2024-06-10T15:00:55.704744Z",
          "iopub.status.idle": "2024-06-10T15:00:55.861538Z",
          "shell.execute_reply.started": "2024-06-10T15:00:55.704715Z",
          "shell.execute_reply": "2024-06-10T15:00:55.860415Z"
        },
        "trusted": true,
        "outputId": "00da04bc-2add-4867-cf76-2c5650ec460f"
      },
      "execution_count": null,
      "outputs": [
        {
          "execution_count": 51,
          "output_type": "execute_result",
          "data": {
            "text/plain": "Text(0.5, 1.0, 'Distribution of Survival on the Titanic')"
          },
          "metadata": {}
        },
        {
          "output_type": "display_data",
          "data": {
            "text/plain": "<Figure size 640x480 with 1 Axes>",
            "image/png": "[encoded data removed]"
          },
          "metadata": {}
        }
      ]
    },
    {
      "cell_type": "markdown",
      "source": [
        "The data shows a significant imbalance between the two classes\n",
        "\n",
        "\n",
        "\n",
        "*   Generate synthetic samples for the minority class SMOTE:.\n",
        "*   Use methods like Random Forest or Gradient Boosting that can handle class imbalance more effectively.\n",
        "\n",
        "\n"
      ],
      "metadata": {
        "id": "qQcmLYnuwo4I"
      }
    },
    {
      "cell_type": "code",
      "source": [
        "train[\"Sex\"].value_counts().plot(kind=\"pie\")\n",
        "plt.title('Distribution of Sex on the Titanic')"
      ],
      "metadata": {
        "id": "S2FrPz1bxGqw",
        "execution": {
          "iopub.status.busy": "2024-06-10T15:00:55.86295Z",
          "iopub.execute_input": "2024-06-10T15:00:55.864169Z",
          "iopub.status.idle": "2024-06-10T15:00:56.032869Z",
          "shell.execute_reply.started": "2024-06-10T15:00:55.864127Z",
          "shell.execute_reply": "2024-06-10T15:00:56.031208Z"
        },
        "trusted": true,
        "outputId": "d20e67bf-04c6-4ccc-a104-231777f0af0b"
      },
      "execution_count": null,
      "outputs": [
        {
          "execution_count": 52,
          "output_type": "execute_result",
          "data": {
            "text/plain": "Text(0.5, 1.0, 'Distribution of Sex on the Titanic')"
          },
          "metadata": {}
        },
        {
          "output_type": "display_data",
          "data": {
            "text/plain": "<Figure size 640x480 with 1 Axes>",
            "image/png": "[encoded data removed]"
          },
          "metadata": {}
        }
      ]
    },
    {
      "cell_type": "markdown",
      "source": [
        "a significant imbalance between the Male and Female"
      ],
      "metadata": {
        "id": "pJ8_P0ZaxuvB"
      }
    },
    {
      "cell_type": "code",
      "source": [
        "sns.countplot(x='Survived',hue='Sex',data=train)"
      ],
      "metadata": {
        "id": "SLtOYAlPhAEc",
        "execution": {
          "iopub.status.busy": "2024-06-10T15:00:56.03476Z",
          "iopub.execute_input": "2024-06-10T15:00:56.036091Z",
          "iopub.status.idle": "2024-06-10T15:00:56.326327Z",
          "shell.execute_reply.started": "2024-06-10T15:00:56.036032Z",
          "shell.execute_reply": "2024-06-10T15:00:56.325201Z"
        },
        "trusted": true,
        "outputId": "91d70c48-1432-4412-d7f6-231e849f5072"
      },
      "execution_count": null,
      "outputs": [
        {
          "execution_count": 53,
          "output_type": "execute_result",
          "data": {
            "text/plain": "<Axes: xlabel='Survived', ylabel='count'>"
          },
          "metadata": {}
        },
        {
          "output_type": "display_data",
          "data": {
            "text/plain": "<Figure size 640x480 with 1 Axes>",
            "image/png": "[encoded data removed]"
          },
          "metadata": {}
        }
      ]
    },
    {
      "cell_type": "markdown",
      "source": [
        "Most of the individuals who survived were female, while the majority of those who did not survive were male."
      ],
      "metadata": {
        "id": "qfA20Zb5xAUa"
      }
    },
    {
      "cell_type": "code",
      "source": [
        "sns.set_style('whitegrid')\n",
        "sns.countplot(x='Survived',hue='Pclass',data=train,palette='rainbow')"
      ],
      "metadata": {
        "_uuid": "3c63bdd5-09b9-447d-adbd-f1efe69180b4",
        "_cell_guid": "2029bd7d-2415-4055-bdb6-d5e0c6cc480f",
        "id": "JnNDYxrwhAEe",
        "execution": {
          "iopub.status.busy": "2024-06-10T15:00:56.328489Z",
          "iopub.execute_input": "2024-06-10T15:00:56.328907Z",
          "iopub.status.idle": "2024-06-10T15:00:56.631154Z",
          "shell.execute_reply.started": "2024-06-10T15:00:56.328869Z",
          "shell.execute_reply": "2024-06-10T15:00:56.629856Z"
        },
        "trusted": true,
        "outputId": "5b560101-0ff0-442a-9a3c-63a0acb5b49d"
      },
      "execution_count": null,
      "outputs": [
        {
          "execution_count": 54,
          "output_type": "execute_result",
          "data": {
            "text/plain": "<Axes: xlabel='Survived', ylabel='count'>"
          },
          "metadata": {}
        },
        {
          "output_type": "display_data",
          "data": {
            "text/plain": "<Figure size 640x480 with 1 Axes>",
            "image/png": "[encoded data removed]"
          },
          "metadata": {}
        }
      ]
    },
    {
      "cell_type": "code",
      "source": [
        "train['Age'].hist(bins=30,color='darkred',alpha=0.7)"
      ],
      "metadata": {
        "_uuid": "d6c62306-3ac5-4cef-b97b-bf42581b1da0",
        "_cell_guid": "5684aa3c-2e6d-4668-ac3a-af2cb4890bf7",
        "id": "TJKfxd7XhAEe",
        "execution": {
          "iopub.status.busy": "2024-06-10T15:00:56.632337Z",
          "iopub.execute_input": "2024-06-10T15:00:56.632642Z",
          "iopub.status.idle": "2024-06-10T15:00:57.018315Z",
          "shell.execute_reply.started": "2024-06-10T15:00:56.632617Z",
          "shell.execute_reply": "2024-06-10T15:00:57.017191Z"
        },
        "trusted": true,
        "outputId": "9ec89e27-0c37-47aa-e472-abec31c657b2"
      },
      "execution_count": null,
      "outputs": [
        {
          "execution_count": 55,
          "output_type": "execute_result",
          "data": {
            "text/plain": "<Axes: >"
          },
          "metadata": {}
        },
        {
          "output_type": "display_data",
          "data": {
            "text/plain": "<Figure size 640x480 with 1 Axes>",
            "image/png": "[encoded data removed]"
          },
          "metadata": {}
        }
      ]
    },
    {
      "cell_type": "code",
      "source": [
        "sns.countplot(x='SibSp',data=train)"
      ],
      "metadata": {
        "_uuid": "186519f5-c924-4e05-9fb3-6be7d7b7ca59",
        "_cell_guid": "e577a7b2-9d02-4b89-b3e1-86ec2992fb79",
        "id": "4c87TODJhAEe",
        "execution": {
          "iopub.status.busy": "2024-06-10T15:00:57.021807Z",
          "iopub.execute_input": "2024-06-10T15:00:57.022198Z",
          "iopub.status.idle": "2024-06-10T15:00:57.292424Z",
          "shell.execute_reply.started": "2024-06-10T15:00:57.022165Z",
          "shell.execute_reply": "2024-06-10T15:00:57.29113Z"
        },
        "trusted": true,
        "outputId": "41d284ad-ce3c-4333-e31f-d03b29dd36e1"
      },
      "execution_count": null,
      "outputs": [
        {
          "execution_count": 56,
          "output_type": "execute_result",
          "data": {
            "text/plain": "<Axes: xlabel='SibSp', ylabel='count'>"
          },
          "metadata": {}
        },
        {
          "output_type": "display_data",
          "data": {
            "text/plain": "<Figure size 640x480 with 1 Axes>",
            "image/png": "[encoded data removed]"
          },
          "metadata": {}
        }
      ]
    },
    {
      "cell_type": "code",
      "source": [
        "sns.countplot(x='Parch',data=train)"
      ],
      "metadata": {
        "id": "HY0Uwa-rhAEe",
        "execution": {
          "iopub.status.busy": "2024-06-10T15:00:57.293691Z",
          "iopub.execute_input": "2024-06-10T15:00:57.294047Z",
          "iopub.status.idle": "2024-06-10T15:00:57.617535Z",
          "shell.execute_reply.started": "2024-06-10T15:00:57.294017Z",
          "shell.execute_reply": "2024-06-10T15:00:57.616267Z"
        },
        "trusted": true,
        "outputId": "14cfa6cf-125c-45bc-f974-0a4016bc8104"
      },
      "execution_count": null,
      "outputs": [
        {
          "execution_count": 57,
          "output_type": "execute_result",
          "data": {
            "text/plain": "<Axes: xlabel='Parch', ylabel='count'>"
          },
          "metadata": {}
        },
        {
          "output_type": "display_data",
          "data": {
            "text/plain": "<Figure size 640x480 with 1 Axes>",
            "image/png": "[encoded data removed]"
          },
          "metadata": {}
        }
      ]
    },
    {
      "cell_type": "code",
      "source": [
        "train['Fare'].hist(color='green',bins=40,figsize=(8,4))"
      ],
      "metadata": {
        "_uuid": "298860b1-dff8-44ca-b211-2237e3cedb55",
        "_cell_guid": "9cfc90ba-5398-4139-864a-bc31a98e243a",
        "id": "82omlA0QhAEe",
        "execution": {
          "iopub.status.busy": "2024-06-10T15:00:57.618759Z",
          "iopub.execute_input": "2024-06-10T15:00:57.619163Z",
          "iopub.status.idle": "2024-06-10T15:00:58.027183Z",
          "shell.execute_reply.started": "2024-06-10T15:00:57.619132Z",
          "shell.execute_reply": "2024-06-10T15:00:58.026079Z"
        },
        "trusted": true,
        "outputId": "e403fafa-783f-4f9e-be07-d02301bfa39c"
      },
      "execution_count": null,
      "outputs": [
        {
          "execution_count": 58,
          "output_type": "execute_result",
          "data": {
            "text/plain": "<Axes: >"
          },
          "metadata": {}
        },
        {
          "output_type": "display_data",
          "data": {
            "text/plain": "<Figure size 800x400 with 1 Axes>",
            "image/png": "[encoded data removed]"
          },
          "metadata": {}
        }
      ]
    },
    {
      "cell_type": "markdown",
      "source": [
        "**Missing Data**\n",
        "\n",
        "We can use seaborn to create a simple heatmap to see where we are missing data!"
      ],
      "metadata": {
        "_uuid": "e665e580-1279-45e6-bad2-d64c69527a98",
        "_cell_guid": "957da5d3-e53f-4f43-9e54-9af345fc2fa8",
        "id": "MbI_9OLkhAEd",
        "trusted": true
      }
    },
    {
      "cell_type": "code",
      "source": [
        "sns.heatmap(train.isnull(),yticklabels=False,cbar=False,cmap='viridis')"
      ],
      "metadata": {
        "_uuid": "27c9deb6-52bf-493f-adbe-a53963b1fc34",
        "_cell_guid": "2796034a-ff70-4cdd-99ad-3d8c066c25db",
        "id": "4MyL_RRyhAEd",
        "execution": {
          "iopub.status.busy": "2024-06-10T15:00:58.028791Z",
          "iopub.execute_input": "2024-06-10T15:00:58.029242Z",
          "iopub.status.idle": "2024-06-10T15:00:58.389551Z",
          "shell.execute_reply.started": "2024-06-10T15:00:58.029203Z",
          "shell.execute_reply": "2024-06-10T15:00:58.388307Z"
        },
        "trusted": true,
        "outputId": "dcb7c4b0-edc1-4d3d-f6c7-b787ac27023e"
      },
      "execution_count": null,
      "outputs": [
        {
          "execution_count": 59,
          "output_type": "execute_result",
          "data": {
            "text/plain": "<Axes: >"
          },
          "metadata": {}
        },
        {
          "output_type": "display_data",
          "data": {
            "text/plain": "<Figure size 640x480 with 1 Axes>",
            "image/png": "[encoded data removed]"
          },
          "metadata": {}
        }
      ]
    },
    {
      "cell_type": "code",
      "source": [
        "train.isnull().sum().sort_values(ascending=False)"
      ],
      "metadata": {
        "id": "EtSU5_6_hAEd",
        "execution": {
          "iopub.status.busy": "2024-06-10T15:00:58.390831Z",
          "iopub.execute_input": "2024-06-10T15:00:58.391177Z",
          "iopub.status.idle": "2024-06-10T15:00:58.4012Z",
          "shell.execute_reply.started": "2024-06-10T15:00:58.391148Z",
          "shell.execute_reply": "2024-06-10T15:00:58.399888Z"
        },
        "trusted": true,
        "outputId": "1f7b8310-19e3-4a7f-9bc9-dbf99745f1a0"
      },
      "execution_count": null,
      "outputs": [
        {
          "execution_count": 60,
          "output_type": "execute_result",
          "data": {
            "text/plain": "Cabin          687\nAge            177\nEmbarked         2\nPassengerId      0\nSurvived         0\nPclass           0\nName             0\nSex              0\nSibSp            0\nParch            0\nTicket           0\nFare             0\ndtype: int64"
          },
          "metadata": {}
        }
      ]
    },
    {
      "cell_type": "markdown",
      "source": [
        "___\n",
        "# Data Cleaning\n",
        "\n"
      ],
      "metadata": {
        "_uuid": "75563284-73ef-47c7-9542-f81075ed0c61",
        "_cell_guid": "9153792b-c727-4380-8d34-939686991bfb",
        "id": "sYp3y6lHhAEe",
        "trusted": true
      }
    },
    {
      "cell_type": "markdown",
      "source": [
        "we can drop the \"Cabin\" column with 77% missing values and replace le missing values of \"Age\" and \"Embarked\" column with the appropriate values"
      ],
      "metadata": {
        "_uuid": "3e6a966e-f0bd-439e-8781-ef5f1b68ed6b",
        "_cell_guid": "dc1c6798-386c-47e4-9b95-bf613c5871ff",
        "id": "jE87sd8ihAEd",
        "trusted": true
      }
    },
    {
      "cell_type": "code",
      "source": [
        "train.drop('Cabin',axis=1,inplace=True)"
      ],
      "metadata": {
        "_uuid": "2a5ae069-b203-4152-90d5-aa3b214f5935",
        "_cell_guid": "40bf2f1b-76d3-4e33-8e96-aea6b13f7ba6",
        "id": "LHgjM_kxhAEg",
        "execution": {
          "iopub.status.busy": "2024-06-10T15:00:58.402721Z",
          "iopub.execute_input": "2024-06-10T15:00:58.403175Z",
          "iopub.status.idle": "2024-06-10T15:00:58.415225Z",
          "shell.execute_reply.started": "2024-06-10T15:00:58.403138Z",
          "shell.execute_reply": "2024-06-10T15:00:58.414144Z"
        },
        "trusted": true
      },
      "execution_count": null,
      "outputs": []
    },
    {
      "cell_type": "code",
      "source": [
        "plt.figure(figsize=(12, 7))\n",
        "sns.boxplot(x='SibSp',y='Age',data=train,palette='winter')"
      ],
      "metadata": {
        "_uuid": "d23506c6-ff8b-4d03-ad3b-be2911571905",
        "_cell_guid": "12d1841d-d955-47f4-a003-79fe4dbbc831",
        "id": "I2NF7Kp3hAEe",
        "execution": {
          "iopub.status.busy": "2024-06-10T15:00:58.416639Z",
          "iopub.execute_input": "2024-06-10T15:00:58.41696Z",
          "iopub.status.idle": "2024-06-10T15:00:58.838143Z",
          "shell.execute_reply.started": "2024-06-10T15:00:58.416935Z",
          "shell.execute_reply": "2024-06-10T15:00:58.837062Z"
        },
        "trusted": true,
        "outputId": "6d98f6c5-1a17-41a1-8a39-a1fca4207f19"
      },
      "execution_count": null,
      "outputs": [
        {
          "execution_count": 62,
          "output_type": "execute_result",
          "data": {
            "text/plain": "<Axes: xlabel='SibSp', ylabel='Age'>"
          },
          "metadata": {}
        },
        {
          "output_type": "display_data",
          "data": {
            "text/plain": "<Figure size 1200x700 with 1 Axes>",
            "image/png": "[encoded data removed]"
          },
          "metadata": {}
        }
      ]
    },
    {
      "cell_type": "markdown",
      "source": [
        "We can observe a correlation between 'SibSp' (number of siblings/spouses aboard) and 'Age'. It is logical that if someone is traveling with more siblings, they are generally younger."
      ],
      "metadata": {
        "_uuid": "50235695-e58d-4e8d-8c16-5629d2a62944",
        "_cell_guid": "fc5cff0d-3637-457a-8d31-573ff28af0c5",
        "id": "FPzrwKHXhAEf",
        "trusted": true
      }
    },
    {
      "cell_type": "code",
      "source": [
        "Age_group = train['Age'].groupby(train['SibSp']).mean()\n",
        "Age_group"
      ],
      "metadata": {
        "id": "agPMMLWKIatb",
        "execution": {
          "iopub.status.busy": "2024-06-10T15:00:58.839485Z",
          "iopub.execute_input": "2024-06-10T15:00:58.839819Z",
          "iopub.status.idle": "2024-06-10T15:00:58.849814Z",
          "shell.execute_reply.started": "2024-06-10T15:00:58.839793Z",
          "shell.execute_reply": "2024-06-10T15:00:58.848546Z"
        },
        "trusted": true,
        "outputId": "94f9f8c0-011f-4278-9c4c-007b762e15cd"
      },
      "execution_count": null,
      "outputs": [
        {
          "execution_count": 63,
          "output_type": "execute_result",
          "data": {
            "text/plain": "SibSp\n0    31.397558\n1    30.089727\n2    22.620000\n3    13.916667\n4     7.055556\n5    10.200000\n8          NaN\nName: Age, dtype: float64"
          },
          "metadata": {}
        }
      ]
    },
    {
      "cell_type": "markdown",
      "source": [
        "A problem when SibSp == 8, there is no value for the Age.\n",
        "\n",
        "-> Let's see the other columns"
      ],
      "metadata": {
        "id": "MZEQ1Ke_R6RZ"
      }
    },
    {
      "cell_type": "code",
      "source": [
        "train[train['SibSp']==8]"
      ],
      "metadata": {
        "id": "oCLQzz5XSJpc",
        "execution": {
          "iopub.status.busy": "2024-06-10T15:00:58.851612Z",
          "iopub.execute_input": "2024-06-10T15:00:58.851977Z",
          "iopub.status.idle": "2024-06-10T15:00:58.87019Z",
          "shell.execute_reply.started": "2024-06-10T15:00:58.851949Z",
          "shell.execute_reply": "2024-06-10T15:00:58.869012Z"
        },
        "trusted": true,
        "outputId": "6743ba18-0e00-4c38-9f1a-3f8f7ee87964"
      },
      "execution_count": null,
      "outputs": [
        {
          "execution_count": 64,
          "output_type": "execute_result",
          "data": {
            "text/plain": "     PassengerId  Survived  Pclass                               Name     Sex  \\\n159          160         0       3         Sage, Master. Thomas Henry    male   \n180          181         0       3       Sage, Miss. Constance Gladys  female   \n201          202         0       3                Sage, Mr. Frederick    male   \n324          325         0       3           Sage, Mr. George John Jr    male   \n792          793         0       3            Sage, Miss. Stella Anna  female   \n846          847         0       3           Sage, Mr. Douglas Bullen    male   \n863          864         0       3  Sage, Miss. Dorothy Edith \"Dolly\"  female   \n\n     Age  SibSp  Parch    Ticket   Fare Embarked  \n159  NaN      8      2  CA. 2343  69.55        S  \n180  NaN      8      2  CA. 2343  69.55        S  \n201  NaN      8      2  CA. 2343  69.55        S  \n324  NaN      8      2  CA. 2343  69.55        S  \n792  NaN      8      2  CA. 2343  69.55        S  \n846  NaN      8      2  CA. 2343  69.55        S  \n863  NaN      8      2  CA. 2343  69.55        S  ",
            "text/html": "<div>\n<style scoped>\n    .dataframe tbody tr th:only-of-type {\n        vertical-align: middle;\n    }\n\n    .dataframe tbody tr th {\n        vertical-align: top;\n    }\n\n    .dataframe thead th {\n        text-align: right;\n    }\n</style>\n<table border=\"1\" class=\"dataframe\">\n  <thead>\n    <tr style=\"text-align: right;\">\n      <th></th>\n      <th>PassengerId</th>\n      <th>Survived</th>\n      <th>Pclass</th>\n      <th>Name</th>\n      <th>Sex</th>\n      <th>Age</th>\n      <th>SibSp</th>\n      <th>Parch</th>\n      <th>Ticket</th>\n      <th>Fare</th>\n      <th>Embarked</th>\n    </tr>\n  </thead>\n  <tbody>\n    <tr>\n      <th>159</th>\n      <td>160</td>\n      <td>0</td>\n      <td>3</td>\n      <td>Sage, Master. Thomas Henry</td>\n      <td>male</td>\n      <td>NaN</td>\n      <td>8</td>\n      <td>2</td>\n      <td>CA. 2343</td>\n      <td>69.55</td>\n      <td>S</td>\n    </tr>\n    <tr>\n      <th>180</th>\n      <td>181</td>\n      <td>0</td>\n      <td>3</td>\n      <td>Sage, Miss. Constance Gladys</td>\n      <td>female</td>\n      <td>NaN</td>\n      <td>8</td>\n      <td>2</td>\n      <td>CA. 2343</td>\n      <td>69.55</td>\n      <td>S</td>\n    </tr>\n    <tr>\n      <th>201</th>\n      <td>202</td>\n      <td>0</td>\n      <td>3</td>\n      <td>Sage, Mr. Frederick</td>\n      <td>male</td>\n      <td>NaN</td>\n      <td>8</td>\n      <td>2</td>\n      <td>CA. 2343</td>\n      <td>69.55</td>\n      <td>S</td>\n    </tr>\n    <tr>\n      <th>324</th>\n      <td>325</td>\n      <td>0</td>\n      <td>3</td>\n      <td>Sage, Mr. George John Jr</td>\n      <td>male</td>\n      <td>NaN</td>\n      <td>8</td>\n      <td>2</td>\n      <td>CA. 2343</td>\n      <td>69.55</td>\n      <td>S</td>\n    </tr>\n    <tr>\n      <th>792</th>\n      <td>793</td>\n      <td>0</td>\n      <td>3</td>\n      <td>Sage, Miss. Stella Anna</td>\n      <td>female</td>\n      <td>NaN</td>\n      <td>8</td>\n      <td>2</td>\n      <td>CA. 2343</td>\n      <td>69.55</td>\n      <td>S</td>\n    </tr>\n    <tr>\n      <th>846</th>\n      <td>847</td>\n      <td>0</td>\n      <td>3</td>\n      <td>Sage, Mr. Douglas Bullen</td>\n      <td>male</td>\n      <td>NaN</td>\n      <td>8</td>\n      <td>2</td>\n      <td>CA. 2343</td>\n      <td>69.55</td>\n      <td>S</td>\n    </tr>\n    <tr>\n      <th>863</th>\n      <td>864</td>\n      <td>0</td>\n      <td>3</td>\n      <td>Sage, Miss. Dorothy Edith \"Dolly\"</td>\n      <td>female</td>\n      <td>NaN</td>\n      <td>8</td>\n      <td>2</td>\n      <td>CA. 2343</td>\n      <td>69.55</td>\n      <td>S</td>\n    </tr>\n  </tbody>\n</table>\n</div>"
          },
          "metadata": {}
        }
      ]
    },
    {
      "cell_type": "code",
      "source": [
        "def impute_age(cols):\n",
        "    Age = cols.iloc[0]\n",
        "    SibSp = cols.iloc[1]\n",
        "\n",
        "    if SibSp == 8:\n",
        "      return train[(train[\"Pclass\"] == 3)&(train[\"Parch\"]==2)][\"Age\"].mean()\n",
        "    else:\n",
        "      return Age_group[SibSp]\n"
      ],
      "metadata": {
        "_uuid": "500a0190-6ce3-471a-9033-669e8996ef21",
        "_cell_guid": "ca213e42-43e3-4f69-bb6c-d3358d9a8934",
        "id": "gfj73KZDhAEf",
        "execution": {
          "iopub.status.busy": "2024-06-10T15:00:58.871529Z",
          "iopub.execute_input": "2024-06-10T15:00:58.871927Z",
          "iopub.status.idle": "2024-06-10T15:00:58.882403Z",
          "shell.execute_reply.started": "2024-06-10T15:00:58.871897Z",
          "shell.execute_reply": "2024-06-10T15:00:58.881245Z"
        },
        "trusted": true
      },
      "execution_count": null,
      "outputs": []
    },
    {
      "cell_type": "markdown",
      "source": [
        "Now apply that function!"
      ],
      "metadata": {
        "_uuid": "275055d1-38b2-4e06-afe1-5a1dd5e7a510",
        "_cell_guid": "0b76ab42-3f75-408b-93dc-e5bd9d846e7f",
        "id": "MjhCIsjwhAEf",
        "trusted": true
      }
    },
    {
      "cell_type": "code",
      "source": [
        "train['Age'] = train[['Age','SibSp']].apply(impute_age,axis=1)"
      ],
      "metadata": {
        "_uuid": "f0971c93-45d0-4838-9bdd-d01918c4c69e",
        "_cell_guid": "8f711705-a3d8-46ad-bc16-7999bf470e2b",
        "id": "aUmxBjrfhAEf",
        "execution": {
          "iopub.status.busy": "2024-06-10T15:00:58.883691Z",
          "iopub.execute_input": "2024-06-10T15:00:58.884059Z",
          "iopub.status.idle": "2024-06-10T15:00:58.928621Z",
          "shell.execute_reply.started": "2024-06-10T15:00:58.884022Z",
          "shell.execute_reply": "2024-06-10T15:00:58.927326Z"
        },
        "trusted": true
      },
      "execution_count": null,
      "outputs": []
    },
    {
      "cell_type": "markdown",
      "source": [
        "And for the categorical column \"Embarked\", We're going to use the mode 'S'"
      ],
      "metadata": {
        "id": "BvKycVl9TbOQ"
      }
    },
    {
      "cell_type": "code",
      "source": [
        "train['Embarked'].fillna(train['Embarked'].mode()[0],inplace=True)"
      ],
      "metadata": {
        "id": "5hAEPYPqhAEf",
        "execution": {
          "iopub.status.busy": "2024-06-10T15:00:58.930092Z",
          "iopub.execute_input": "2024-06-10T15:00:58.930445Z",
          "iopub.status.idle": "2024-06-10T15:00:58.937412Z",
          "shell.execute_reply.started": "2024-06-10T15:00:58.930417Z",
          "shell.execute_reply": "2024-06-10T15:00:58.936288Z"
        },
        "trusted": true,
        "outputId": "b873f503-01e6-48bb-9c93-2c1165d509d9"
      },
      "execution_count": null,
      "outputs": [
        {
          "name": "stderr",
          "text": "/tmp/ipykernel_33/417421274.py:1: FutureWarning: A value is trying to be set on a copy of a DataFrame or Series through chained assignment using an inplace method.\nThe behavior will change in pandas 3.0. This inplace method will never work because the intermediate object on which we are setting values always behaves as a copy.\n\nFor example, when doing 'df[col].method(value, inplace=True)', try using 'df.method({col: value}, inplace=True)' or df[col] = df[col].method(value) instead, to perform the operation inplace on the original object.\n\n\n  train['Embarked'].fillna(train['Embarked'].mode()[0],inplace=True)\n",
          "output_type": "stream"
        }
      ]
    },
    {
      "cell_type": "markdown",
      "source": [
        "Now let's check that heat map again!"
      ],
      "metadata": {
        "_uuid": "07c10e31-aa36-450f-8acf-f9367fca85e1",
        "_cell_guid": "82e88dce-4751-4912-9cbe-b69e8c1b248f",
        "id": "EQCuHgV9hAEg",
        "trusted": true
      }
    },
    {
      "cell_type": "code",
      "source": [
        "sns.heatmap(train.isnull(),yticklabels=False,cbar=False,cmap='viridis')"
      ],
      "metadata": {
        "_uuid": "4d541a02-d5f1-48f2-b5b6-2e0505f2ae17",
        "_cell_guid": "74b72a12-7335-4780-ae3c-b3ec3cdd6e2a",
        "id": "VuNJ7P2bhAEg",
        "execution": {
          "iopub.status.busy": "2024-06-10T15:00:58.938854Z",
          "iopub.execute_input": "2024-06-10T15:00:58.939294Z",
          "iopub.status.idle": "2024-06-10T15:00:59.449593Z",
          "shell.execute_reply.started": "2024-06-10T15:00:58.939247Z",
          "shell.execute_reply": "2024-06-10T15:00:59.448488Z"
        },
        "trusted": true,
        "outputId": "4ca24620-f13e-4a12-ae4e-8b95270312a7"
      },
      "execution_count": null,
      "outputs": [
        {
          "execution_count": 68,
          "output_type": "execute_result",
          "data": {
            "text/plain": "<Axes: >"
          },
          "metadata": {}
        },
        {
          "output_type": "display_data",
          "data": {
            "text/plain": "<Figure size 640x480 with 1 Axes>",
            "image/png": "[encoded data removed]"
          },
          "metadata": {}
        }
      ]
    },
    {
      "cell_type": "markdown",
      "source": [
        "Great! Let's go ahead and drop the Cabin column and the row in Embarked that is NaN."
      ],
      "metadata": {
        "_uuid": "8163a025-02d5-4df6-83d1-b232613c866c",
        "_cell_guid": "0e9729d5-e3e9-4c37-87ed-c6bab92a80ae",
        "id": "QVDnRrZihAEg",
        "trusted": true
      }
    },
    {
      "cell_type": "code",
      "source": [
        "train.head()"
      ],
      "metadata": {
        "_uuid": "3eb5a7f2-7a68-42a7-b210-73347fde0118",
        "_cell_guid": "ed680301-6512-4631-b9fe-8533402920b1",
        "id": "cirRccaNhAEh",
        "execution": {
          "iopub.status.busy": "2024-06-10T15:00:59.450644Z",
          "iopub.execute_input": "2024-06-10T15:00:59.450952Z",
          "iopub.status.idle": "2024-06-10T15:00:59.466337Z",
          "shell.execute_reply.started": "2024-06-10T15:00:59.450926Z",
          "shell.execute_reply": "2024-06-10T15:00:59.465071Z"
        },
        "trusted": true,
        "outputId": "31accfdc-965b-4163-a342-846193977ada"
      },
      "execution_count": null,
      "outputs": [
        {
          "execution_count": 69,
          "output_type": "execute_result",
          "data": {
            "text/plain": "   PassengerId  Survived  Pclass  \\\n0            1         0       3   \n1            2         1       1   \n2            3         1       3   \n3            4         1       1   \n4            5         0       3   \n\n                                                Name     Sex        Age  \\\n0                            Braund, Mr. Owen Harris    male  30.089727   \n1  Cumings, Mrs. John Bradley (Florence Briggs Th...  female  30.089727   \n2                             Heikkinen, Miss. Laina  female  31.397558   \n3       Futrelle, Mrs. Jacques Heath (Lily May Peel)  female  30.089727   \n4                           Allen, Mr. William Henry    male  31.397558   \n\n   SibSp  Parch            Ticket     Fare Embarked  \n0      1      0         A/5 21171   7.2500        S  \n1      1      0          PC 17599  71.2833        C  \n2      0      0  STON/O2. 3101282   7.9250        S  \n3      1      0            113803  53.1000        S  \n4      0      0            373450   8.0500        S  ",
            "text/html": "<div>\n<style scoped>\n    .dataframe tbody tr th:only-of-type {\n        vertical-align: middle;\n    }\n\n    .dataframe tbody tr th {\n        vertical-align: top;\n    }\n\n    .dataframe thead th {\n        text-align: right;\n    }\n</style>\n<table border=\"1\" class=\"dataframe\">\n  <thead>\n    <tr style=\"text-align: right;\">\n      <th></th>\n      <th>PassengerId</th>\n      <th>Survived</th>\n      <th>Pclass</th>\n      <th>Name</th>\n      <th>Sex</th>\n      <th>Age</th>\n      <th>SibSp</th>\n      <th>Parch</th>\n      <th>Ticket</th>\n      <th>Fare</th>\n      <th>Embarked</th>\n    </tr>\n  </thead>\n  <tbody>\n    <tr>\n      <th>0</th>\n      <td>1</td>\n      <td>0</td>\n      <td>3</td>\n      <td>Braund, Mr. Owen Harris</td>\n      <td>male</td>\n      <td>30.089727</td>\n      <td>1</td>\n      <td>0</td>\n      <td>A/5 21171</td>\n      <td>7.2500</td>\n      <td>S</td>\n    </tr>\n    <tr>\n      <th>1</th>\n      <td>2</td>\n      <td>1</td>\n      <td>1</td>\n      <td>Cumings, Mrs. John Bradley (Florence Briggs Th...</td>\n      <td>female</td>\n      <td>30.089727</td>\n      <td>1</td>\n      <td>0</td>\n      <td>PC 17599</td>\n      <td>71.2833</td>\n      <td>C</td>\n    </tr>\n    <tr>\n      <th>2</th>\n      <td>3</td>\n      <td>1</td>\n      <td>3</td>\n      <td>Heikkinen, Miss. Laina</td>\n      <td>female</td>\n      <td>31.397558</td>\n      <td>0</td>\n      <td>0</td>\n      <td>STON/O2. 3101282</td>\n      <td>7.9250</td>\n      <td>S</td>\n    </tr>\n    <tr>\n      <th>3</th>\n      <td>4</td>\n      <td>1</td>\n      <td>1</td>\n      <td>Futrelle, Mrs. Jacques Heath (Lily May Peel)</td>\n      <td>female</td>\n      <td>30.089727</td>\n      <td>1</td>\n      <td>0</td>\n      <td>113803</td>\n      <td>53.1000</td>\n      <td>S</td>\n    </tr>\n    <tr>\n      <th>4</th>\n      <td>5</td>\n      <td>0</td>\n      <td>3</td>\n      <td>Allen, Mr. William Henry</td>\n      <td>male</td>\n      <td>31.397558</td>\n      <td>0</td>\n      <td>0</td>\n      <td>373450</td>\n      <td>8.0500</td>\n      <td>S</td>\n    </tr>\n  </tbody>\n</table>\n</div>"
          },
          "metadata": {}
        }
      ]
    },
    {
      "cell_type": "markdown",
      "source": [
        "# Converting Categorical Features\n",
        "  We'll need to convert categorical features to dummy variables using pandas! Otherwise our machine learning algorithm won't be able to directly take in those features as inputs."
      ],
      "metadata": {
        "_uuid": "5a776be5-763f-49b8-9cf8-337ec4d18ec6",
        "_cell_guid": "c4488457-0050-41c9-85a0-8b44d37561bb",
        "id": "vLAi2HQGhAEh",
        "trusted": true
      }
    },
    {
      "cell_type": "code",
      "source": [
        "train.info()"
      ],
      "metadata": {
        "_uuid": "746d9c20-dbe6-4f3d-9dec-8d789e4e6c1b",
        "_cell_guid": "41462f98-6728-48d6-b6d8-b9d6e1da827b",
        "id": "H-cA5Q_KhAEh",
        "execution": {
          "iopub.status.busy": "2024-06-10T15:00:59.467597Z",
          "iopub.execute_input": "2024-06-10T15:00:59.467926Z",
          "iopub.status.idle": "2024-06-10T15:00:59.483713Z",
          "shell.execute_reply.started": "2024-06-10T15:00:59.467897Z",
          "shell.execute_reply": "2024-06-10T15:00:59.482576Z"
        },
        "trusted": true,
        "outputId": "dbeee1a0-a652-4db8-8672-b54474beeea1"
      },
      "execution_count": null,
      "outputs": [
        {
          "name": "stdout",
          "text": "<class 'pandas.core.frame.DataFrame'>\nRangeIndex: 891 entries, 0 to 890\nData columns (total 11 columns):\n #   Column       Non-Null Count  Dtype  \n---  ------       --------------  -----  \n 0   PassengerId  891 non-null    int64  \n 1   Survived     891 non-null    int64  \n 2   Pclass       891 non-null    int64  \n 3   Name         891 non-null    object \n 4   Sex          891 non-null    object \n 5   Age          891 non-null    float64\n 6   SibSp        891 non-null    int64  \n 7   Parch        891 non-null    int64  \n 8   Ticket       891 non-null    object \n 9   Fare         891 non-null    float64\n 10  Embarked     891 non-null    object \ndtypes: float64(2), int64(5), object(4)\nmemory usage: 76.7+ KB\n",
          "output_type": "stream"
        }
      ]
    },
    {
      "cell_type": "code",
      "source": [
        "sex = pd.get_dummies(train['Sex'],drop_first=True)\n",
        "embark = pd.get_dummies(train['Embarked'],drop_first=True)"
      ],
      "metadata": {
        "_uuid": "abc79025-8ad2-4fe2-804e-38517df0ac8a",
        "_cell_guid": "21c4dce6-8fa3-4c28-be1e-3178031629ad",
        "id": "1QhBmlGnhAEp",
        "execution": {
          "iopub.status.busy": "2024-06-10T15:00:59.485278Z",
          "iopub.execute_input": "2024-06-10T15:00:59.486192Z",
          "iopub.status.idle": "2024-06-10T15:00:59.499223Z",
          "shell.execute_reply.started": "2024-06-10T15:00:59.486155Z",
          "shell.execute_reply": "2024-06-10T15:00:59.498117Z"
        },
        "trusted": true
      },
      "execution_count": null,
      "outputs": []
    },
    {
      "cell_type": "code",
      "source": [
        "train.drop(['Sex','Embarked','Name','Ticket'],axis=1,inplace=True)"
      ],
      "metadata": {
        "_uuid": "e8a00bfd-89e6-4ae2-b6f1-66d9776e4c5c",
        "_cell_guid": "0f873b59-8484-446e-b5ee-4ef369deb427",
        "id": "ji6nnxSshAEp",
        "execution": {
          "iopub.status.busy": "2024-06-10T15:00:59.506718Z",
          "iopub.execute_input": "2024-06-10T15:00:59.507197Z",
          "iopub.status.idle": "2024-06-10T15:00:59.513829Z",
          "shell.execute_reply.started": "2024-06-10T15:00:59.507164Z",
          "shell.execute_reply": "2024-06-10T15:00:59.512834Z"
        },
        "trusted": true
      },
      "execution_count": null,
      "outputs": []
    },
    {
      "cell_type": "code",
      "source": [
        "train = pd.concat([train,sex,embark],axis=1)"
      ],
      "metadata": {
        "_uuid": "701d86a7-2256-48e3-a865-80ce9af6420f",
        "_cell_guid": "986df581-b6f7-4074-ac5f-c6fdb51f13e1",
        "id": "9cRPwCpAhAEp",
        "execution": {
          "iopub.status.busy": "2024-06-10T15:00:59.515203Z",
          "iopub.execute_input": "2024-06-10T15:00:59.515617Z",
          "iopub.status.idle": "2024-06-10T15:00:59.528523Z",
          "shell.execute_reply.started": "2024-06-10T15:00:59.51558Z",
          "shell.execute_reply": "2024-06-10T15:00:59.527559Z"
        },
        "trusted": true
      },
      "execution_count": null,
      "outputs": []
    },
    {
      "cell_type": "code",
      "source": [
        "train.head()"
      ],
      "metadata": {
        "_uuid": "0930afba-ea1b-432f-ac55-38bf9454fbc6",
        "_cell_guid": "4f8d18d6-8170-4bb0-a98b-ee2fd2164e7a",
        "id": "iLeJ2-fdhAEp",
        "execution": {
          "iopub.status.busy": "2024-06-10T15:00:59.530344Z",
          "iopub.execute_input": "2024-06-10T15:00:59.530811Z",
          "iopub.status.idle": "2024-06-10T15:00:59.551137Z",
          "shell.execute_reply.started": "2024-06-10T15:00:59.530769Z",
          "shell.execute_reply": "2024-06-10T15:00:59.549822Z"
        },
        "trusted": true,
        "outputId": "ba31c7bb-cd3e-4a5b-9f01-696d97ce0e2a"
      },
      "execution_count": null,
      "outputs": [
        {
          "execution_count": 74,
          "output_type": "execute_result",
          "data": {
            "text/plain": "   PassengerId  Survived  Pclass        Age  SibSp  Parch     Fare   male  \\\n0            1         0       3  30.089727      1      0   7.2500   True   \n1            2         1       1  30.089727      1      0  71.2833  False   \n2            3         1       3  31.397558      0      0   7.9250  False   \n3            4         1       1  30.089727      1      0  53.1000  False   \n4            5         0       3  31.397558      0      0   8.0500   True   \n\n       Q      S  \n0  False   True  \n1  False  False  \n2  False   True  \n3  False   True  \n4  False   True  ",
            "text/html": "<div>\n<style scoped>\n    .dataframe tbody tr th:only-of-type {\n        vertical-align: middle;\n    }\n\n    .dataframe tbody tr th {\n        vertical-align: top;\n    }\n\n    .dataframe thead th {\n        text-align: right;\n    }\n</style>\n<table border=\"1\" class=\"dataframe\">\n  <thead>\n    <tr style=\"text-align: right;\">\n      <th></th>\n      <th>PassengerId</th>\n      <th>Survived</th>\n      <th>Pclass</th>\n      <th>Age</th>\n      <th>SibSp</th>\n      <th>Parch</th>\n      <th>Fare</th>\n      <th>male</th>\n      <th>Q</th>\n      <th>S</th>\n    </tr>\n  </thead>\n  <tbody>\n    <tr>\n      <th>0</th>\n      <td>1</td>\n      <td>0</td>\n      <td>3</td>\n      <td>30.089727</td>\n      <td>1</td>\n      <td>0</td>\n      <td>7.2500</td>\n      <td>True</td>\n      <td>False</td>\n      <td>True</td>\n    </tr>\n    <tr>\n      <th>1</th>\n      <td>2</td>\n      <td>1</td>\n      <td>1</td>\n      <td>30.089727</td>\n      <td>1</td>\n      <td>0</td>\n      <td>71.2833</td>\n      <td>False</td>\n      <td>False</td>\n      <td>False</td>\n    </tr>\n    <tr>\n      <th>2</th>\n      <td>3</td>\n      <td>1</td>\n      <td>3</td>\n      <td>31.397558</td>\n      <td>0</td>\n      <td>0</td>\n      <td>7.9250</td>\n      <td>False</td>\n      <td>False</td>\n      <td>True</td>\n    </tr>\n    <tr>\n      <th>3</th>\n      <td>4</td>\n      <td>1</td>\n      <td>1</td>\n      <td>30.089727</td>\n      <td>1</td>\n      <td>0</td>\n      <td>53.1000</td>\n      <td>False</td>\n      <td>False</td>\n      <td>True</td>\n    </tr>\n    <tr>\n      <th>4</th>\n      <td>5</td>\n      <td>0</td>\n      <td>3</td>\n      <td>31.397558</td>\n      <td>0</td>\n      <td>0</td>\n      <td>8.0500</td>\n      <td>True</td>\n      <td>False</td>\n      <td>True</td>\n    </tr>\n  </tbody>\n</table>\n</div>"
          },
          "metadata": {}
        }
      ]
    },
    {
      "cell_type": "markdown",
      "source": [
        "** Great! Our data is ready for our model!**\n",
        "\n",
        "# Train Test Split"
      ],
      "metadata": {
        "_uuid": "8e390930-df41-4441-98ec-43cc1004b300",
        "_cell_guid": "e197124c-028e-45c7-841d-d9fb1427b0c4",
        "id": "OTPhKohFhAEp",
        "trusted": true
      }
    },
    {
      "cell_type": "code",
      "source": [
        "from sklearn.model_selection import train_test_split"
      ],
      "metadata": {
        "_uuid": "f684ebdf-6983-4b97-8891-ea2aaf201f31",
        "_cell_guid": "8caf44d6-833f-4c29-a499-b8af9bbd9eb3",
        "id": "MOSLlK-zhAEp",
        "execution": {
          "iopub.status.busy": "2024-06-10T15:00:59.55252Z",
          "iopub.execute_input": "2024-06-10T15:00:59.552873Z",
          "iopub.status.idle": "2024-06-10T15:00:59.561737Z",
          "shell.execute_reply.started": "2024-06-10T15:00:59.552843Z",
          "shell.execute_reply": "2024-06-10T15:00:59.56053Z"
        },
        "trusted": true
      },
      "execution_count": null,
      "outputs": []
    },
    {
      "cell_type": "code",
      "source": [
        "X_train, X_test, y_train, y_test = train_test_split(train.drop(['Survived'],axis=1),\n",
        "                                                    train['Survived'], test_size=0.10,\n",
        "                                                    random_state=101)"
      ],
      "metadata": {
        "_uuid": "b1167f0a-8737-4ea7-885f-58f075a04ab4",
        "_cell_guid": "9daa890e-9afe-472c-8550-4aa553ee8fd9",
        "id": "anQwY8iZhAEq",
        "execution": {
          "iopub.status.busy": "2024-06-10T15:00:59.563422Z",
          "iopub.execute_input": "2024-06-10T15:00:59.563793Z",
          "iopub.status.idle": "2024-06-10T15:00:59.580478Z",
          "shell.execute_reply.started": "2024-06-10T15:00:59.563763Z",
          "shell.execute_reply": "2024-06-10T15:00:59.5793Z"
        },
        "trusted": true
      },
      "execution_count": null,
      "outputs": []
    },
    {
      "cell_type": "markdown",
      "source": [
        "#Logistic Regression model"
      ],
      "metadata": {
        "id": "RMwrTL6fXryC"
      }
    },
    {
      "cell_type": "code",
      "source": [
        "from sklearn.linear_model import LogisticRegression"
      ],
      "metadata": {
        "_uuid": "0d719fd4-cd9e-4f57-b208-099bad9b3fd7",
        "_cell_guid": "b2c136ec-23ef-4c3e-a5f1-49d3af1bdd4f",
        "id": "x_sElYs8hAEq",
        "execution": {
          "iopub.status.busy": "2024-06-10T15:00:59.581906Z",
          "iopub.execute_input": "2024-06-10T15:00:59.583133Z",
          "iopub.status.idle": "2024-06-10T15:00:59.593369Z",
          "shell.execute_reply.started": "2024-06-10T15:00:59.583097Z",
          "shell.execute_reply": "2024-06-10T15:00:59.59211Z"
        },
        "trusted": true
      },
      "execution_count": null,
      "outputs": []
    },
    {
      "cell_type": "code",
      "source": [
        "logmodel = LogisticRegression()\n",
        "logmodel.fit(X_train,y_train)"
      ],
      "metadata": {
        "_uuid": "f1f2716c-a9be-4524-a1b7-719ab5df66b1",
        "_cell_guid": "7a3f0260-c0c8-4ee0-8ddb-a7e3f040952b",
        "id": "7xQSUBkOhAEq",
        "execution": {
          "iopub.status.busy": "2024-06-10T15:00:59.594785Z",
          "iopub.execute_input": "2024-06-10T15:00:59.595278Z",
          "iopub.status.idle": "2024-06-10T15:00:59.635261Z",
          "shell.execute_reply.started": "2024-06-10T15:00:59.595242Z",
          "shell.execute_reply": "2024-06-10T15:00:59.63401Z"
        },
        "trusted": true,
        "outputId": "d571f010-9032-4337-ac14-17a54be95d63"
      },
      "execution_count": null,
      "outputs": [
        {
          "name": "stderr",
          "text": "/opt/conda/lib/python3.10/site-packages/sklearn/linear_model/_logistic.py:458: ConvergenceWarning: lbfgs failed to converge (status=1):\nSTOP: TOTAL NO. of ITERATIONS REACHED LIMIT.\n\nIncrease the number of iterations (max_iter) or scale the data as shown in:\n    https://scikit-learn.org/stable/modules/preprocessing.html\nPlease also refer to the documentation for alternative solver options:\n    https://scikit-learn.org/stable/modules/linear_model.html#logistic-regression\n  n_iter_i = _check_optimize_result(\n",
          "output_type": "stream"
        },
        {
          "execution_count": 78,
          "output_type": "execute_result",
          "data": {
            "text/plain": "LogisticRegression()",
            "text/html": "<style>#sk-container-id-2 {color: black;background-color: white;}#sk-container-id-2 pre{padding: 0;}#sk-container-id-2 div.sk-toggleable {background-color: white;}#sk-container-id-2 label.sk-toggleable__label {cursor: pointer;display: block;width: 100%;margin-bottom: 0;padding: 0.3em;box-sizing: border-box;text-align: center;}#sk-container-id-2 label.sk-toggleable__label-arrow:before {content: \"▸\";float: left;margin-right: 0.25em;color: #696969;}#sk-container-id-2 label.sk-toggleable__label-arrow:hover:before {color: black;}#sk-container-id-2 div.sk-estimator:hover label.sk-toggleable__label-arrow:before {color: black;}#sk-container-id-2 div.sk-toggleable__content {max-height: 0;max-width: 0;overflow: hidden;text-align: left;background-color: #f0f8ff;}#sk-container-id-2 div.sk-toggleable__content pre {margin: 0.2em;color: black;border-radius: 0.25em;background-color: #f0f8ff;}#sk-container-id-2 input.sk-toggleable__control:checked~div.sk-toggleable__content {max-height: 200px;max-width: 100%;overflow: auto;}#sk-container-id-2 input.sk-toggleable__control:checked~label.sk-toggleable__label-arrow:before {content: \"▾\";}#sk-container-id-2 div.sk-estimator input.sk-toggleable__control:checked~label.sk-toggleable__label {background-color: #d4ebff;}#sk-container-id-2 div.sk-label input.sk-toggleable__control:checked~label.sk-toggleable__label {background-color: #d4ebff;}#sk-container-id-2 input.sk-hidden--visually {border: 0;clip: rect(1px 1px 1px 1px);clip: rect(1px, 1px, 1px, 1px);height: 1px;margin: -1px;overflow: hidden;padding: 0;position: absolute;width: 1px;}#sk-container-id-2 div.sk-estimator {font-family: monospace;background-color: #f0f8ff;border: 1px dotted black;border-radius: 0.25em;box-sizing: border-box;margin-bottom: 0.5em;}#sk-container-id-2 div.sk-estimator:hover {background-color: #d4ebff;}#sk-container-id-2 div.sk-parallel-item::after {content: \"\";width: 100%;border-bottom: 1px solid gray;flex-grow: 1;}#sk-container-id-2 div.sk-label:hover label.sk-toggleable__label {background-color: #d4ebff;}#sk-container-id-2 div.sk-serial::before {content: \"\";position: absolute;border-left: 1px solid gray;box-sizing: border-box;top: 0;bottom: 0;left: 50%;z-index: 0;}#sk-container-id-2 div.sk-serial {display: flex;flex-direction: column;align-items: center;background-color: white;padding-right: 0.2em;padding-left: 0.2em;position: relative;}#sk-container-id-2 div.sk-item {position: relative;z-index: 1;}#sk-container-id-2 div.sk-parallel {display: flex;align-items: stretch;justify-content: center;background-color: white;position: relative;}#sk-container-id-2 div.sk-item::before, #sk-container-id-2 div.sk-parallel-item::before {content: \"\";position: absolute;border-left: 1px solid gray;box-sizing: border-box;top: 0;bottom: 0;left: 50%;z-index: -1;}#sk-container-id-2 div.sk-parallel-item {display: flex;flex-direction: column;z-index: 1;position: relative;background-color: white;}#sk-container-id-2 div.sk-parallel-item:first-child::after {align-self: flex-end;width: 50%;}#sk-container-id-2 div.sk-parallel-item:last-child::after {align-self: flex-start;width: 50%;}#sk-container-id-2 div.sk-parallel-item:only-child::after {width: 0;}#sk-container-id-2 div.sk-dashed-wrapped {border: 1px dashed gray;margin: 0 0.4em 0.5em 0.4em;box-sizing: border-box;padding-bottom: 0.4em;background-color: white;}#sk-container-id-2 div.sk-label label {font-family: monospace;font-weight: bold;display: inline-block;line-height: 1.2em;}#sk-container-id-2 div.sk-label-container {text-align: center;}#sk-container-id-2 div.sk-container {/* jupyter's `normalize.less` sets `[hidden] { display: none; }` but bootstrap.min.css set `[hidden] { display: none !important; }` so we also need the `!important` here to be able to override the default hidden behavior on the sphinx rendered scikit-learn.org. See: https://github.com/scikit-learn/scikit-learn/issues/21755 */display: inline-block !important;position: relative;}#sk-container-id-2 div.sk-text-repr-fallback {display: none;}</style><div id=\"sk-container-id-2\" class=\"sk-top-container\"><div class=\"sk-text-repr-fallback\"><pre>LogisticRegression()</pre><b>In a Jupyter environment, please rerun this cell to show the HTML representation or trust the notebook. <br />On GitHub, the HTML representation is unable to render, please try loading this page with nbviewer.org.</b></div><div class=\"sk-container\" hidden><div class=\"sk-item\"><div class=\"sk-estimator sk-toggleable\"><input class=\"sk-toggleable__control sk-hidden--visually\" id=\"sk-estimator-id-2\" type=\"checkbox\" checked><label for=\"sk-estimator-id-2\" class=\"sk-toggleable__label sk-toggleable__label-arrow\">LogisticRegression</label><div class=\"sk-toggleable__content\"><pre>LogisticRegression()</pre></div></div></div></div></div>"
          },
          "metadata": {}
        }
      ]
    },
    {
      "cell_type": "code",
      "source": [
        "predictions = logmodel.predict(X_test)\n",
        "X_test.head()"
      ],
      "metadata": {
        "_uuid": "55bdba18-3456-48fd-a9d1-a5584dade351",
        "_cell_guid": "edb32c5a-e564-44cc-b8c1-655a36bfba25",
        "id": "nmN_z61mhAEq",
        "execution": {
          "iopub.status.busy": "2024-06-10T15:00:59.636689Z",
          "iopub.execute_input": "2024-06-10T15:00:59.637046Z",
          "iopub.status.idle": "2024-06-10T15:00:59.654378Z",
          "shell.execute_reply.started": "2024-06-10T15:00:59.637009Z",
          "shell.execute_reply": "2024-06-10T15:00:59.653277Z"
        },
        "trusted": true,
        "outputId": "07aee6df-79a0-4948-a9e1-8fd9997fa4da"
      },
      "execution_count": null,
      "outputs": [
        {
          "execution_count": 79,
          "output_type": "execute_result",
          "data": {
            "text/plain": "     PassengerId  Pclass        Age  SibSp  Parch     Fare   male      Q  \\\n331          332       1  31.397558      0      0   28.500   True  False   \n700          701       1  30.089727      1      0  227.525  False  False   \n748          749       1  30.089727      1      0   53.100   True  False   \n751          752       3  31.397558      0      1   12.475   True  False   \n481          482       2  31.397558      0      0    0.000   True  False   \n\n         S  \n331   True  \n700  False  \n748   True  \n751   True  \n481   True  ",
            "text/html": "<div>\n<style scoped>\n    .dataframe tbody tr th:only-of-type {\n        vertical-align: middle;\n    }\n\n    .dataframe tbody tr th {\n        vertical-align: top;\n    }\n\n    .dataframe thead th {\n        text-align: right;\n    }\n</style>\n<table border=\"1\" class=\"dataframe\">\n  <thead>\n    <tr style=\"text-align: right;\">\n      <th></th>\n      <th>PassengerId</th>\n      <th>Pclass</th>\n      <th>Age</th>\n      <th>SibSp</th>\n      <th>Parch</th>\n      <th>Fare</th>\n      <th>male</th>\n      <th>Q</th>\n      <th>S</th>\n    </tr>\n  </thead>\n  <tbody>\n    <tr>\n      <th>331</th>\n      <td>332</td>\n      <td>1</td>\n      <td>31.397558</td>\n      <td>0</td>\n      <td>0</td>\n      <td>28.500</td>\n      <td>True</td>\n      <td>False</td>\n      <td>True</td>\n    </tr>\n    <tr>\n      <th>700</th>\n      <td>701</td>\n      <td>1</td>\n      <td>30.089727</td>\n      <td>1</td>\n      <td>0</td>\n      <td>227.525</td>\n      <td>False</td>\n      <td>False</td>\n      <td>False</td>\n    </tr>\n    <tr>\n      <th>748</th>\n      <td>749</td>\n      <td>1</td>\n      <td>30.089727</td>\n      <td>1</td>\n      <td>0</td>\n      <td>53.100</td>\n      <td>True</td>\n      <td>False</td>\n      <td>True</td>\n    </tr>\n    <tr>\n      <th>751</th>\n      <td>752</td>\n      <td>3</td>\n      <td>31.397558</td>\n      <td>0</td>\n      <td>1</td>\n      <td>12.475</td>\n      <td>True</td>\n      <td>False</td>\n      <td>True</td>\n    </tr>\n    <tr>\n      <th>481</th>\n      <td>482</td>\n      <td>2</td>\n      <td>31.397558</td>\n      <td>0</td>\n      <td>0</td>\n      <td>0.000</td>\n      <td>True</td>\n      <td>False</td>\n      <td>True</td>\n    </tr>\n  </tbody>\n</table>\n</div>"
          },
          "metadata": {}
        }
      ]
    },
    {
      "cell_type": "code",
      "source": [
        "predictions"
      ],
      "metadata": {
        "_uuid": "53fb0999-8ec5-40dd-8289-0eb2029b0a8f",
        "_cell_guid": "cace2897-8911-4476-9b65-76515944dd32",
        "id": "M1B1D1HqhAEq",
        "execution": {
          "iopub.status.busy": "2024-06-10T15:00:59.655721Z",
          "iopub.execute_input": "2024-06-10T15:00:59.656117Z",
          "iopub.status.idle": "2024-06-10T15:00:59.669915Z",
          "shell.execute_reply.started": "2024-06-10T15:00:59.656089Z",
          "shell.execute_reply": "2024-06-10T15:00:59.668807Z"
        },
        "trusted": true,
        "outputId": "bcb022ed-40d4-435f-c66b-1ad6d6d3fa1b"
      },
      "execution_count": null,
      "outputs": [
        {
          "execution_count": 80,
          "output_type": "execute_result",
          "data": {
            "text/plain": "array([0, 1, 0, 0, 0, 0, 0, 0, 1, 1, 0, 0, 1, 0, 0, 0, 0, 0, 0, 1, 0, 0,\n       1, 1, 0, 0, 0, 0, 0, 0, 1, 1, 1, 0, 0, 1, 0, 0, 0, 0, 0, 1, 1, 0,\n       0, 0, 0, 0, 0, 0, 1, 1, 1, 1, 1, 0, 0, 0, 0, 1, 1, 0, 0, 1, 0, 0,\n       1, 1, 1, 0, 0, 0, 0, 0, 1, 1, 0, 0, 0, 0, 0, 1, 0, 0, 1, 0, 0, 0,\n       0, 1])"
          },
          "metadata": {}
        }
      ]
    },
    {
      "cell_type": "markdown",
      "source": [
        "\n",
        "**Evaluation**"
      ],
      "metadata": {
        "_uuid": "28d5ddd0-41ca-4bfe-818e-8d75837699c8",
        "_cell_guid": "e833a0ff-3e86-4144-aa06-7daf1addf340",
        "id": "ximiTB0VhAEq",
        "trusted": true
      }
    },
    {
      "cell_type": "markdown",
      "source": [
        "We can check precision,recall,f1-score using classification report!"
      ],
      "metadata": {
        "_uuid": "09b31e40-12c9-4d48-b165-e80e85453c7c",
        "_cell_guid": "db6de7c9-5fe7-41bf-b2e8-aa8778e744df",
        "id": "53vk_sCrhAEq",
        "trusted": true
      }
    },
    {
      "cell_type": "code",
      "source": [
        "from sklearn.metrics import classification_report,confusion_matrix"
      ],
      "metadata": {
        "_uuid": "795929d2-f5ae-492a-8739-65998cccdfbd",
        "_cell_guid": "700b7898-3d56-4ee6-acc8-a9a8f78a8370",
        "id": "GLV0gejlhAEr",
        "execution": {
          "iopub.status.busy": "2024-06-10T15:00:59.671213Z",
          "iopub.execute_input": "2024-06-10T15:00:59.671549Z",
          "iopub.status.idle": "2024-06-10T15:00:59.681211Z",
          "shell.execute_reply.started": "2024-06-10T15:00:59.67152Z",
          "shell.execute_reply": "2024-06-10T15:00:59.679899Z"
        },
        "trusted": true
      },
      "execution_count": null,
      "outputs": []
    },
    {
      "cell_type": "code",
      "source": [
        "print(confusion_matrix(y_test,predictions))"
      ],
      "metadata": {
        "_uuid": "1a1d84c0-778a-49d3-9c96-1b621be125b0",
        "_cell_guid": "113ddb4a-924d-459a-a5e0-97008adf7061",
        "id": "T39r2golhAEr",
        "execution": {
          "iopub.status.busy": "2024-06-10T15:00:59.682508Z",
          "iopub.execute_input": "2024-06-10T15:00:59.682826Z",
          "iopub.status.idle": "2024-06-10T15:00:59.696577Z",
          "shell.execute_reply.started": "2024-06-10T15:00:59.6828Z",
          "shell.execute_reply": "2024-06-10T15:00:59.695363Z"
        },
        "trusted": true,
        "outputId": "d0ae9a54-2116-4ac3-f161-79a822149d78"
      },
      "execution_count": null,
      "outputs": [
        {
          "name": "stdout",
          "text": "[[46  5]\n [15 24]]\n",
          "output_type": "stream"
        }
      ]
    },
    {
      "cell_type": "code",
      "source": [
        "print(classification_report(y_test,predictions))"
      ],
      "metadata": {
        "_uuid": "94743fe6-9829-4650-a6b2-aeeef91e0e8e",
        "_cell_guid": "aa125221-9354-49f9-9638-1c2849f9eaa7",
        "id": "39WYtpAlhAEr",
        "execution": {
          "iopub.status.busy": "2024-06-10T15:00:59.697806Z",
          "iopub.execute_input": "2024-06-10T15:00:59.698176Z",
          "iopub.status.idle": "2024-06-10T15:00:59.717521Z",
          "shell.execute_reply.started": "2024-06-10T15:00:59.698147Z",
          "shell.execute_reply": "2024-06-10T15:00:59.716426Z"
        },
        "trusted": true,
        "outputId": "e41bf1df-7f74-406c-b0ad-d7d3b44f5b93"
      },
      "execution_count": null,
      "outputs": [
        {
          "name": "stdout",
          "text": "              precision    recall  f1-score   support\n\n           0       0.75      0.90      0.82        51\n           1       0.83      0.62      0.71        39\n\n    accuracy                           0.78        90\n   macro avg       0.79      0.76      0.76        90\nweighted avg       0.79      0.78      0.77        90\n\n",
          "output_type": "stream"
        }
      ]
    },
    {
      "cell_type": "markdown",
      "source": [
        "# Support Vector Machines (SVM)"
      ],
      "metadata": {
        "id": "gsPBV1Pyb4q8"
      }
    },
    {
      "cell_type": "code",
      "source": [
        "from sklearn.svm import SVC\n",
        "from sklearn.model_selection import GridSearchCV"
      ],
      "metadata": {
        "id": "EjQRMtKFcQDo",
        "execution": {
          "iopub.status.busy": "2024-06-10T15:00:59.718963Z",
          "iopub.execute_input": "2024-06-10T15:00:59.719574Z",
          "iopub.status.idle": "2024-06-10T15:00:59.72468Z",
          "shell.execute_reply.started": "2024-06-10T15:00:59.719543Z",
          "shell.execute_reply": "2024-06-10T15:00:59.72337Z"
        },
        "trusted": true
      },
      "execution_count": null,
      "outputs": []
    },
    {
      "cell_type": "code",
      "source": [
        "svm_model = SVC()\n",
        "\n",
        "param_grid = {\n",
        "    'C': [0.1, 1, 10, 100],\n",
        "    'gamma': [1, 0.1, 0.01, 0.001],\n",
        "    'kernel': ['linear', 'rbf', 'poly', 'sigmoid']\n",
        "}\n",
        "\n",
        "grid_search_svm = GridSearchCV(estimator=svm_model, param_grid=param_grid, cv=5, n_jobs=-1, scoring='accuracy')\n"
      ],
      "metadata": {
        "id": "jwrJKYFYb3-i",
        "execution": {
          "iopub.status.busy": "2024-06-10T15:00:59.726204Z",
          "iopub.execute_input": "2024-06-10T15:00:59.726533Z",
          "iopub.status.idle": "2024-06-10T15:00:59.736736Z",
          "shell.execute_reply.started": "2024-06-10T15:00:59.726504Z",
          "shell.execute_reply": "2024-06-10T15:00:59.735626Z"
        },
        "trusted": true
      },
      "execution_count": null,
      "outputs": []
    },
    {
      "cell_type": "code",
      "source": [
        "grid_search_svm.fit(X_train, y_train)"
      ],
      "metadata": {
        "trusted": true,
        "id": "-iIl1hz-y-tN"
      },
      "execution_count": null,
      "outputs": []
    },
    {
      "cell_type": "code",
      "source": [
        "grid_search_svm.best_params_"
      ],
      "metadata": {
        "id": "U436oWSScXiE",
        "execution": {
          "iopub.status.busy": "2024-06-10T17:05:38.812725Z",
          "iopub.execute_input": "2024-06-10T17:05:38.813161Z",
          "iopub.status.idle": "2024-06-10T17:05:39.144253Z",
          "shell.execute_reply.started": "2024-06-10T17:05:38.813127Z",
          "shell.execute_reply": "2024-06-10T17:05:39.142382Z"
        },
        "trusted": true,
        "outputId": "282631f7-f2c3-4e6e-dc29-504c65f7c3fc"
      },
      "execution_count": null,
      "outputs": [
        {
          "traceback": [
            "\u001b[0;31m---------------------------------------------------------------------------\u001b[0m",
            "\u001b[0;31mNameError\u001b[0m                                 Traceback (most recent call last)",
            "Cell \u001b[0;32mIn[1], line 1\u001b[0m\n\u001b[0;32m----> 1\u001b[0m \u001b[43mgrid_search_svm\u001b[49m\u001b[38;5;241m.\u001b[39mbest_params_\n",
            "\u001b[0;31mNameError\u001b[0m: name 'grid_search_svm' is not defined"
          ],
          "ename": "NameError",
          "evalue": "name 'grid_search_svm' is not defined",
          "output_type": "error"
        }
      ]
    },
    {
      "cell_type": "code",
      "source": [
        "grid_search_svm.best_estimator_"
      ],
      "metadata": {
        "id": "9XpW8SaecW3j",
        "trusted": true
      },
      "execution_count": null,
      "outputs": []
    },
    {
      "cell_type": "code",
      "source": [
        "predictions = grid_search_svm.predict(X_test)\n",
        "predictions"
      ],
      "metadata": {
        "id": "E-RdDlducfsh",
        "trusted": true
      },
      "execution_count": null,
      "outputs": []
    },
    {
      "cell_type": "code",
      "source": [
        "confusion_matrix(y_test,predictions)"
      ],
      "metadata": {
        "id": "9HBhq_i-clLL",
        "trusted": true
      },
      "execution_count": null,
      "outputs": []
    },
    {
      "cell_type": "code",
      "source": [
        "classification_report(y_test,predictions)"
      ],
      "metadata": {
        "id": "dRtbTEKKcoi8",
        "trusted": true
      },
      "execution_count": null,
      "outputs": []
    },
    {
      "cell_type": "markdown",
      "source": [
        "# Decision Tree Classifiction"
      ],
      "metadata": {
        "_uuid": "260c4caf-9210-46d6-8ef6-62c8db08ee1e",
        "_cell_guid": "bb6f3640-3016-44f7-8831-d4d4724559be",
        "id": "_Iv9Y3SohAEr",
        "trusted": true
      }
    },
    {
      "cell_type": "markdown",
      "source": [
        "Hyperparameter tuning using GridSearchCV with a DecisionTreeClassifier"
      ],
      "metadata": {
        "id": "xGJbKc4hbieM"
      }
    },
    {
      "cell_type": "code",
      "source": [
        "from sklearn.tree import DecisionTreeClassifier\n",
        "from sklearn.model_selection import GridSearchCV"
      ],
      "metadata": {
        "_uuid": "5cf3a6be-bc00-4ea1-a806-16cd9f1a2f06",
        "_cell_guid": "1868ccd7-1079-45c4-8696-28f727323aae",
        "id": "E8lQoY92hAEr",
        "trusted": true
      },
      "execution_count": null,
      "outputs": []
    },
    {
      "cell_type": "code",
      "source": [
        "dt_model=DecisionTreeClassifier()\n",
        "\n",
        "param_grid = {\n",
        "    'criterion': ['gini', 'entropy'],\n",
        "    'splitter': ['best', 'random'],\n",
        "    'max_depth': [None, 10, 20, 30],\n",
        "    'min_samples_split': [2, 10, 20],\n",
        "    'min_samples_leaf': [1, 5, 10]\n",
        "}\n",
        "\n",
        "grid_search = GridSearchCV(estimator=dt_model, param_grid=param_grid, cv=5, n_jobs=-1, scoring='accuracy')\n",
        "\n",
        "grid_search.fit(X_train,y_train)"
      ],
      "metadata": {
        "_uuid": "7b8c88d0-a90d-4e3e-9557-9ae34766fcda",
        "_cell_guid": "cce0b768-a291-460b-bf91-06e592ad43f8",
        "id": "ZyLIZO-KhAEs",
        "trusted": true
      },
      "execution_count": null,
      "outputs": []
    },
    {
      "cell_type": "code",
      "source": [
        "grid_search.best_params_"
      ],
      "metadata": {
        "id": "hFlVU5EgbVDd",
        "trusted": true
      },
      "execution_count": null,
      "outputs": []
    },
    {
      "cell_type": "code",
      "source": [
        "grid_search.best_estimator_"
      ],
      "metadata": {
        "id": "JhvkDf1BbXCG",
        "trusted": true
      },
      "execution_count": null,
      "outputs": []
    },
    {
      "cell_type": "code",
      "source": [
        "dt_pred = grid_search.predict(X_test)"
      ],
      "metadata": {
        "_uuid": "ed6a0db7-2f86-4e86-b2ff-17274f77396e",
        "_cell_guid": "21ba5358-8cb6-4cc8-9d5a-3c06f2106330",
        "id": "xn3tWT3jhAEs",
        "trusted": true
      },
      "execution_count": null,
      "outputs": []
    },
    {
      "cell_type": "code",
      "source": [
        "print(confusion_matrix(y_test,dt_pred))"
      ],
      "metadata": {
        "_uuid": "7ae9ec8c-bfd6-4e9a-8007-efe92c90bec8",
        "_cell_guid": "be726d2d-b797-4cbc-a533-ff44b79a06f3",
        "id": "DtTGYeYghAEt",
        "trusted": true
      },
      "execution_count": null,
      "outputs": []
    },
    {
      "cell_type": "code",
      "source": [
        "print(classification_report(y_test,dt_pred))"
      ],
      "metadata": {
        "_uuid": "11634053-504f-4d75-853b-b5c97de6fabd",
        "_cell_guid": "8b46e811-5a6f-4464-82cb-f57fdb78faf9",
        "id": "kGvkNiHdhAEt",
        "trusted": true
      },
      "execution_count": null,
      "outputs": []
    },
    {
      "cell_type": "markdown",
      "source": [
        "# Random Forest Classification"
      ],
      "metadata": {
        "_uuid": "0db9a6f5-935f-45e0-8ff2-3245e9594005",
        "_cell_guid": "0a591b53-7199-47ef-8182-9084a6285bb6",
        "id": "a9TdHBephAEt",
        "trusted": true
      }
    },
    {
      "cell_type": "code",
      "source": [
        "from sklearn.ensemble import RandomForestClassifier"
      ],
      "metadata": {
        "_uuid": "28b193b2-3cbf-413a-a432-4809f9ecbe40",
        "_cell_guid": "70d6a3f5-894a-4f24-87b9-e2e1f1463fc9",
        "id": "NaMT9hsVhAEu",
        "trusted": true
      },
      "execution_count": null,
      "outputs": []
    },
    {
      "cell_type": "code",
      "source": [
        "rf= RandomForestClassifier(n_estimators=500)\n",
        "rf.fit(X_train,y_train)"
      ],
      "metadata": {
        "_uuid": "06091e72-a27b-40d7-971b-fa7b8ee6a8cd",
        "_cell_guid": "a12c4b2a-7d3c-41b0-8564-c1197e231dc2",
        "id": "nnciuSuIhAEu",
        "trusted": true
      },
      "execution_count": null,
      "outputs": []
    },
    {
      "cell_type": "code",
      "source": [
        "rf_pre=rf.predict(X_test)"
      ],
      "metadata": {
        "_uuid": "1d2ed9ec-749e-4891-ac68-cdae97b398f7",
        "_cell_guid": "08bd74ef-be89-4dbd-bd25-c956262061ae",
        "id": "NfF2SzyWhAEu",
        "trusted": true
      },
      "execution_count": null,
      "outputs": []
    },
    {
      "cell_type": "code",
      "source": [
        "print(confusion_matrix(y_test,rf_pre))"
      ],
      "metadata": {
        "_uuid": "4f8f3848-eb38-42bf-a4db-632a243870e7",
        "_cell_guid": "72031aef-f4fc-4a0d-a1d5-dc5d38ae52e4",
        "id": "ijKg2uAZhAEu",
        "trusted": true
      },
      "execution_count": null,
      "outputs": []
    },
    {
      "cell_type": "code",
      "source": [
        "print(classification_report(y_test,rf_pre))"
      ],
      "metadata": {
        "_uuid": "d8b3e7b5-6aae-4a41-9634-c918206a3b60",
        "_cell_guid": "3b00ce16-7d0d-49a9-9bfc-1d9d96257d2f",
        "id": "xtCDMgNdhAEu",
        "trusted": true
      },
      "execution_count": null,
      "outputs": []
    },
    {
      "cell_type": "markdown",
      "source": [
        "# XGBoosts Classifier"
      ],
      "metadata": {
        "id": "cBKmM_uqhAEv"
      }
    },
    {
      "cell_type": "code",
      "source": [
        "from xgboost import XGBClassifier\n",
        "xgboost = XGBClassifier(n_estimators=1000)\n",
        "xgboost.fit(X_train,y_train)"
      ],
      "metadata": {
        "id": "LEp2--RnhAEv",
        "trusted": true
      },
      "execution_count": null,
      "outputs": []
    },
    {
      "cell_type": "code",
      "source": [
        "xg_pred = xgboost.predict(X_test)"
      ],
      "metadata": {
        "id": "sZu3rvn8hAEv",
        "trusted": true
      },
      "execution_count": null,
      "outputs": []
    },
    {
      "cell_type": "code",
      "source": [
        "print(confusion_matrix(y_test,xg_pred))"
      ],
      "metadata": {
        "id": "XzNscOlAhAEv",
        "trusted": true
      },
      "execution_count": null,
      "outputs": []
    },
    {
      "cell_type": "code",
      "source": [
        "print(classification_report(y_test,xg_pred))"
      ],
      "metadata": {
        "id": "rGMz_WI7hAEv",
        "trusted": true
      },
      "execution_count": null,
      "outputs": []
    },
    {
      "cell_type": "markdown",
      "source": [
        "# Atificiel Neural Network"
      ],
      "metadata": {
        "id": "OR34gpbXhAEw"
      }
    },
    {
      "cell_type": "code",
      "source": [
        "import keras\n",
        "from keras.layers import Dense\n",
        "from keras.models import Sequential"
      ],
      "metadata": {
        "id": "zANthhoAhAEw",
        "trusted": true
      },
      "execution_count": null,
      "outputs": []
    },
    {
      "cell_type": "code",
      "source": [
        "ann  = Sequential()\n",
        "ann.add(Dense(units= 32, kernel_initializer= 'uniform', activation = 'relu', input_dim=9))\n",
        "ann.add(Dense(units= 32, kernel_initializer= 'uniform', activation = 'relu'))\n",
        "ann.add(Dense(units= 1, kernel_initializer= 'uniform', activation = 'sigmoid'))\n",
        "ann.compile(optimizer='adam',\n",
        "              loss='mean_squared_error',\n",
        "              metrics=['accuracy'])"
      ],
      "metadata": {
        "id": "k1BilmYBhAEw",
        "trusted": true
      },
      "execution_count": null,
      "outputs": []
    },
    {
      "cell_type": "markdown",
      "source": [
        "X and y should be in float32 type to be treated in ANN"
      ],
      "metadata": {
        "id": "A9l4C8BtaGWc"
      }
    },
    {
      "cell_type": "code",
      "source": [
        "X_train = np.asarray(X_train).astype(np.float32)\n",
        "y_train = np.asarray(y_train).astype(np.float32)\n",
        "X_test = np.asarray(X_test).astype(np.float32)\n",
        "y_test = np.asarray(y_test).astype(np.float32)"
      ],
      "metadata": {
        "id": "n26yCXpuaBx1",
        "trusted": true
      },
      "execution_count": null,
      "outputs": []
    },
    {
      "cell_type": "code",
      "source": [
        "ann.fit(X_train,y_train, batch_size=32, epochs=100,verbose= 0)"
      ],
      "metadata": {
        "id": "W_sBZF9fhAEx",
        "trusted": true
      },
      "execution_count": null,
      "outputs": []
    },
    {
      "cell_type": "code",
      "source": [
        "ann_pred = ann.predict(X_test)\n",
        "ann_pred = [ 1 if y>=0.5 else 0 for y in ann_pred]\n",
        "print(ann_pred)"
      ],
      "metadata": {
        "id": "iqA2fhXhhAEx",
        "trusted": true
      },
      "execution_count": null,
      "outputs": []
    },
    {
      "cell_type": "code",
      "source": [
        "print(confusion_matrix(y_test,ann_pred))"
      ],
      "metadata": {
        "id": "XY9xMoXahAEx",
        "trusted": true
      },
      "execution_count": null,
      "outputs": []
    },
    {
      "cell_type": "code",
      "source": [
        "print(classification_report(y_test,ann_pred))"
      ],
      "metadata": {
        "id": "a6JQ9g7OhAEx",
        "trusted": true
      },
      "execution_count": null,
      "outputs": []
    }
  ]
}